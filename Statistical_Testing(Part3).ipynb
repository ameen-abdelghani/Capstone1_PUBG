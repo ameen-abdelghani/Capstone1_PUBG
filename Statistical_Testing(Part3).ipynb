{
 "cells": [
  {
   "cell_type": "code",
   "execution_count": 25,
   "metadata": {},
   "outputs": [],
   "source": [
    "import pandas as pd\n",
    "import numpy as np\n",
    "from scipy import stats\n",
    "import statsmodels\n",
    "import statsmodels.api as sm\n",
    "import seaborn as sns\n",
    "import matplotlib.pyplot as plt"
   ]
  },
  {
   "cell_type": "code",
   "execution_count": 26,
   "metadata": {},
   "outputs": [],
   "source": [
    "dfsolo = pd.read_csv('dfsolo.csv') \n",
    "dfduo = pd.read_csv('dfduo.csv')\n",
    "dfsquad = pd.read_csv('dfsquad.csv')\n",
    "\n",
    "#In the cleaning notebook, I divided the datasets into solo, duo, and squad mode, and downlaoded them as csv files."
   ]
  },
  {
   "cell_type": "markdown",
   "metadata": {},
   "source": [
    "## 1. Are there variables that are particularly significant in terms of explaining the answer to your project question?"
   ]
  },
  {
   "cell_type": "markdown",
   "metadata": {},
   "source": [
    "The underlying questions for my project is what variables positively correlate with winning a match of Players Unknown Battleground. Winning in this game means being the last player / team standing. To increase threshold of victory we could potentially say 'winning' to be within the top 5 team placement. \n",
    "\n",
    "In my previous visualizations I've found that a player doing more damage and getting more kills is the strongest variable correlating with winning a match"
   ]
  },
  {
   "cell_type": "markdown",
   "metadata": {},
   "source": [
    "## 2. Are there strong correlations between pairs of independent variables or between an independent and a dependent variable?"
   ]
  },
  {
   "cell_type": "markdown",
   "metadata": {},
   "source": [
    "My mentor has told me that Pearson Correlation values above .4 or below -.4 are to be considered significant, anything in between those values are too close to 0, are thought to be weak correlations.\n",
    "\n",
    "***<font color=red>When examining the correlations below, its important to remember when looking at the team placement variable that a negative correlation is a good thing, since the lower the team placement number translates into closer to victory (first place).</font>***\n",
    "\n",
    "Some noteworthy correlations for solo matches to the dependent variable (team placement) are: \n",
    "\n",
    "**Solo**\n",
    "\n",
    "1. Player Kills & Team Placement : -.39\n",
    "2. Player Distance Walked & Team Placement : -.04 \n",
    "3. Distance driven & team placement: -.26 \n",
    "\n",
    "I did not note independent variables that are highly correlated with one another already such as player kills and player damage. Player survival time and team placement is not an interesting high correlation because the trend is a given. \n",
    "\n",
    "**Duo**\n",
    "\n",
    "1. Player Kills & Team Placement : -.33\n",
    "2. Player Distance Walked & Team Placement : -.55\n",
    "3. Distance driven & Team placement: -.31\n",
    "\n",
    "**Squad**\n",
    "\n",
    "1. Player Kills & Team Placement : -.25\n",
    "2. Player Distance Walked & Team Placement : -.4 \n",
    "3. Distance driven & Team placement: -.21"
   ]
  },
  {
   "cell_type": "code",
   "execution_count": 27,
   "metadata": {},
   "outputs": [
    {
     "data": {
      "text/html": [
       "<div>\n",
       "<style scoped>\n",
       "    .dataframe tbody tr th:only-of-type {\n",
       "        vertical-align: middle;\n",
       "    }\n",
       "\n",
       "    .dataframe tbody tr th {\n",
       "        vertical-align: top;\n",
       "    }\n",
       "\n",
       "    .dataframe thead th {\n",
       "        text-align: right;\n",
       "    }\n",
       "</style>\n",
       "<table border=\"1\" class=\"dataframe\">\n",
       "  <thead>\n",
       "    <tr style=\"text-align: right;\">\n",
       "      <th></th>\n",
       "      <th>team_placement</th>\n",
       "      <th>player_dist_walk</th>\n",
       "      <th>player_dmg</th>\n",
       "      <th>player_dist_ride</th>\n",
       "      <th>player_survive_time</th>\n",
       "      <th>game_size</th>\n",
       "      <th>party_size</th>\n",
       "      <th>player_kills</th>\n",
       "    </tr>\n",
       "  </thead>\n",
       "  <tbody>\n",
       "    <tr>\n",
       "      <th>team_placement</th>\n",
       "      <td>1.000000</td>\n",
       "      <td>-0.045919</td>\n",
       "      <td>-0.398288</td>\n",
       "      <td>-0.267936</td>\n",
       "      <td>-0.946906</td>\n",
       "      <td>0.003769</td>\n",
       "      <td>NaN</td>\n",
       "      <td>-0.395293</td>\n",
       "    </tr>\n",
       "    <tr>\n",
       "      <th>player_dist_walk</th>\n",
       "      <td>-0.045919</td>\n",
       "      <td>1.000000</td>\n",
       "      <td>0.012646</td>\n",
       "      <td>0.640884</td>\n",
       "      <td>0.070603</td>\n",
       "      <td>0.008346</td>\n",
       "      <td>NaN</td>\n",
       "      <td>0.014304</td>\n",
       "    </tr>\n",
       "    <tr>\n",
       "      <th>player_dmg</th>\n",
       "      <td>-0.398288</td>\n",
       "      <td>0.012646</td>\n",
       "      <td>1.000000</td>\n",
       "      <td>0.081807</td>\n",
       "      <td>0.389395</td>\n",
       "      <td>0.041910</td>\n",
       "      <td>NaN</td>\n",
       "      <td>0.960075</td>\n",
       "    </tr>\n",
       "    <tr>\n",
       "      <th>player_dist_ride</th>\n",
       "      <td>-0.267936</td>\n",
       "      <td>0.640884</td>\n",
       "      <td>0.081807</td>\n",
       "      <td>1.000000</td>\n",
       "      <td>0.281153</td>\n",
       "      <td>0.070863</td>\n",
       "      <td>NaN</td>\n",
       "      <td>0.068391</td>\n",
       "    </tr>\n",
       "    <tr>\n",
       "      <th>player_survive_time</th>\n",
       "      <td>-0.946906</td>\n",
       "      <td>0.070603</td>\n",
       "      <td>0.389395</td>\n",
       "      <td>0.281153</td>\n",
       "      <td>1.000000</td>\n",
       "      <td>0.043893</td>\n",
       "      <td>NaN</td>\n",
       "      <td>0.385720</td>\n",
       "    </tr>\n",
       "    <tr>\n",
       "      <th>game_size</th>\n",
       "      <td>0.003769</td>\n",
       "      <td>0.008346</td>\n",
       "      <td>0.041910</td>\n",
       "      <td>0.070863</td>\n",
       "      <td>0.043893</td>\n",
       "      <td>1.000000</td>\n",
       "      <td>NaN</td>\n",
       "      <td>0.039941</td>\n",
       "    </tr>\n",
       "    <tr>\n",
       "      <th>party_size</th>\n",
       "      <td>NaN</td>\n",
       "      <td>NaN</td>\n",
       "      <td>NaN</td>\n",
       "      <td>NaN</td>\n",
       "      <td>NaN</td>\n",
       "      <td>NaN</td>\n",
       "      <td>NaN</td>\n",
       "      <td>NaN</td>\n",
       "    </tr>\n",
       "    <tr>\n",
       "      <th>player_kills</th>\n",
       "      <td>-0.395293</td>\n",
       "      <td>0.014304</td>\n",
       "      <td>0.960075</td>\n",
       "      <td>0.068391</td>\n",
       "      <td>0.385720</td>\n",
       "      <td>0.039941</td>\n",
       "      <td>NaN</td>\n",
       "      <td>1.000000</td>\n",
       "    </tr>\n",
       "  </tbody>\n",
       "</table>\n",
       "</div>"
      ],
      "text/plain": [
       "                     team_placement  player_dist_walk  player_dmg  \\\n",
       "team_placement             1.000000         -0.045919   -0.398288   \n",
       "player_dist_walk          -0.045919          1.000000    0.012646   \n",
       "player_dmg                -0.398288          0.012646    1.000000   \n",
       "player_dist_ride          -0.267936          0.640884    0.081807   \n",
       "player_survive_time       -0.946906          0.070603    0.389395   \n",
       "game_size                  0.003769          0.008346    0.041910   \n",
       "party_size                      NaN               NaN         NaN   \n",
       "player_kills              -0.395293          0.014304    0.960075   \n",
       "\n",
       "                     player_dist_ride  player_survive_time  game_size  \\\n",
       "team_placement              -0.267936            -0.946906   0.003769   \n",
       "player_dist_walk             0.640884             0.070603   0.008346   \n",
       "player_dmg                   0.081807             0.389395   0.041910   \n",
       "player_dist_ride             1.000000             0.281153   0.070863   \n",
       "player_survive_time          0.281153             1.000000   0.043893   \n",
       "game_size                    0.070863             0.043893   1.000000   \n",
       "party_size                        NaN                  NaN        NaN   \n",
       "player_kills                 0.068391             0.385720   0.039941   \n",
       "\n",
       "                     party_size  player_kills  \n",
       "team_placement              NaN     -0.395293  \n",
       "player_dist_walk            NaN      0.014304  \n",
       "player_dmg                  NaN      0.960075  \n",
       "player_dist_ride            NaN      0.068391  \n",
       "player_survive_time         NaN      0.385720  \n",
       "game_size                   NaN      0.039941  \n",
       "party_size                  NaN           NaN  \n",
       "player_kills                NaN      1.000000  "
      ]
     },
     "execution_count": 27,
     "metadata": {},
     "output_type": "execute_result"
    }
   ],
   "source": [
    "dfsolo.corr() #"
   ]
  },
  {
   "cell_type": "code",
   "execution_count": 28,
   "metadata": {},
   "outputs": [
    {
     "data": {
      "text/html": [
       "<div>\n",
       "<style scoped>\n",
       "    .dataframe tbody tr th:only-of-type {\n",
       "        vertical-align: middle;\n",
       "    }\n",
       "\n",
       "    .dataframe tbody tr th {\n",
       "        vertical-align: top;\n",
       "    }\n",
       "\n",
       "    .dataframe thead th {\n",
       "        text-align: right;\n",
       "    }\n",
       "</style>\n",
       "<table border=\"1\" class=\"dataframe\">\n",
       "  <thead>\n",
       "    <tr style=\"text-align: right;\">\n",
       "      <th></th>\n",
       "      <th>team_placement</th>\n",
       "      <th>player_dist_walk</th>\n",
       "      <th>player_dmg</th>\n",
       "      <th>player_dist_ride</th>\n",
       "      <th>player_survive_time</th>\n",
       "      <th>game_size</th>\n",
       "      <th>party_size</th>\n",
       "      <th>player_kills</th>\n",
       "    </tr>\n",
       "  </thead>\n",
       "  <tbody>\n",
       "    <tr>\n",
       "      <th>team_placement</th>\n",
       "      <td>1.000000</td>\n",
       "      <td>-0.551608</td>\n",
       "      <td>-0.342147</td>\n",
       "      <td>-0.318631</td>\n",
       "      <td>-0.794058</td>\n",
       "      <td>0.004186</td>\n",
       "      <td>NaN</td>\n",
       "      <td>-0.330974</td>\n",
       "    </tr>\n",
       "    <tr>\n",
       "      <th>player_dist_walk</th>\n",
       "      <td>-0.551608</td>\n",
       "      <td>1.000000</td>\n",
       "      <td>0.271352</td>\n",
       "      <td>0.050293</td>\n",
       "      <td>0.712818</td>\n",
       "      <td>0.016539</td>\n",
       "      <td>NaN</td>\n",
       "      <td>0.267275</td>\n",
       "    </tr>\n",
       "    <tr>\n",
       "      <th>player_dmg</th>\n",
       "      <td>-0.342147</td>\n",
       "      <td>0.271352</td>\n",
       "      <td>1.000000</td>\n",
       "      <td>0.080955</td>\n",
       "      <td>0.373690</td>\n",
       "      <td>0.051381</td>\n",
       "      <td>NaN</td>\n",
       "      <td>0.892617</td>\n",
       "    </tr>\n",
       "    <tr>\n",
       "      <th>player_dist_ride</th>\n",
       "      <td>-0.318631</td>\n",
       "      <td>0.050293</td>\n",
       "      <td>0.080955</td>\n",
       "      <td>1.000000</td>\n",
       "      <td>0.407971</td>\n",
       "      <td>0.115461</td>\n",
       "      <td>NaN</td>\n",
       "      <td>0.064243</td>\n",
       "    </tr>\n",
       "    <tr>\n",
       "      <th>player_survive_time</th>\n",
       "      <td>-0.794058</td>\n",
       "      <td>0.712818</td>\n",
       "      <td>0.373690</td>\n",
       "      <td>0.407971</td>\n",
       "      <td>1.000000</td>\n",
       "      <td>0.080362</td>\n",
       "      <td>NaN</td>\n",
       "      <td>0.353039</td>\n",
       "    </tr>\n",
       "    <tr>\n",
       "      <th>game_size</th>\n",
       "      <td>0.004186</td>\n",
       "      <td>0.016539</td>\n",
       "      <td>0.051381</td>\n",
       "      <td>0.115461</td>\n",
       "      <td>0.080362</td>\n",
       "      <td>1.000000</td>\n",
       "      <td>NaN</td>\n",
       "      <td>0.040654</td>\n",
       "    </tr>\n",
       "    <tr>\n",
       "      <th>party_size</th>\n",
       "      <td>NaN</td>\n",
       "      <td>NaN</td>\n",
       "      <td>NaN</td>\n",
       "      <td>NaN</td>\n",
       "      <td>NaN</td>\n",
       "      <td>NaN</td>\n",
       "      <td>NaN</td>\n",
       "      <td>NaN</td>\n",
       "    </tr>\n",
       "    <tr>\n",
       "      <th>player_kills</th>\n",
       "      <td>-0.330974</td>\n",
       "      <td>0.267275</td>\n",
       "      <td>0.892617</td>\n",
       "      <td>0.064243</td>\n",
       "      <td>0.353039</td>\n",
       "      <td>0.040654</td>\n",
       "      <td>NaN</td>\n",
       "      <td>1.000000</td>\n",
       "    </tr>\n",
       "  </tbody>\n",
       "</table>\n",
       "</div>"
      ],
      "text/plain": [
       "                     team_placement  player_dist_walk  player_dmg  \\\n",
       "team_placement             1.000000         -0.551608   -0.342147   \n",
       "player_dist_walk          -0.551608          1.000000    0.271352   \n",
       "player_dmg                -0.342147          0.271352    1.000000   \n",
       "player_dist_ride          -0.318631          0.050293    0.080955   \n",
       "player_survive_time       -0.794058          0.712818    0.373690   \n",
       "game_size                  0.004186          0.016539    0.051381   \n",
       "party_size                      NaN               NaN         NaN   \n",
       "player_kills              -0.330974          0.267275    0.892617   \n",
       "\n",
       "                     player_dist_ride  player_survive_time  game_size  \\\n",
       "team_placement              -0.318631            -0.794058   0.004186   \n",
       "player_dist_walk             0.050293             0.712818   0.016539   \n",
       "player_dmg                   0.080955             0.373690   0.051381   \n",
       "player_dist_ride             1.000000             0.407971   0.115461   \n",
       "player_survive_time          0.407971             1.000000   0.080362   \n",
       "game_size                    0.115461             0.080362   1.000000   \n",
       "party_size                        NaN                  NaN        NaN   \n",
       "player_kills                 0.064243             0.353039   0.040654   \n",
       "\n",
       "                     party_size  player_kills  \n",
       "team_placement              NaN     -0.330974  \n",
       "player_dist_walk            NaN      0.267275  \n",
       "player_dmg                  NaN      0.892617  \n",
       "player_dist_ride            NaN      0.064243  \n",
       "player_survive_time         NaN      0.353039  \n",
       "game_size                   NaN      0.040654  \n",
       "party_size                  NaN           NaN  \n",
       "player_kills                NaN      1.000000  "
      ]
     },
     "execution_count": 28,
     "metadata": {},
     "output_type": "execute_result"
    }
   ],
   "source": [
    "dfduo.corr()"
   ]
  },
  {
   "cell_type": "code",
   "execution_count": 29,
   "metadata": {},
   "outputs": [
    {
     "data": {
      "text/html": [
       "<div>\n",
       "<style scoped>\n",
       "    .dataframe tbody tr th:only-of-type {\n",
       "        vertical-align: middle;\n",
       "    }\n",
       "\n",
       "    .dataframe tbody tr th {\n",
       "        vertical-align: top;\n",
       "    }\n",
       "\n",
       "    .dataframe thead th {\n",
       "        text-align: right;\n",
       "    }\n",
       "</style>\n",
       "<table border=\"1\" class=\"dataframe\">\n",
       "  <thead>\n",
       "    <tr style=\"text-align: right;\">\n",
       "      <th></th>\n",
       "      <th>team_placement</th>\n",
       "      <th>player_dist_walk</th>\n",
       "      <th>player_dmg</th>\n",
       "      <th>player_dist_ride</th>\n",
       "      <th>player_survive_time</th>\n",
       "      <th>game_size</th>\n",
       "      <th>party_size</th>\n",
       "      <th>player_kills</th>\n",
       "    </tr>\n",
       "  </thead>\n",
       "  <tbody>\n",
       "    <tr>\n",
       "      <th>team_placement</th>\n",
       "      <td>1.000000</td>\n",
       "      <td>-0.400415</td>\n",
       "      <td>-0.267238</td>\n",
       "      <td>-0.212695</td>\n",
       "      <td>-0.556652</td>\n",
       "      <td>0.006556</td>\n",
       "      <td>NaN</td>\n",
       "      <td>-0.253025</td>\n",
       "    </tr>\n",
       "    <tr>\n",
       "      <th>player_dist_walk</th>\n",
       "      <td>-0.400415</td>\n",
       "      <td>1.000000</td>\n",
       "      <td>0.271316</td>\n",
       "      <td>0.123931</td>\n",
       "      <td>0.749044</td>\n",
       "      <td>0.004079</td>\n",
       "      <td>NaN</td>\n",
       "      <td>0.252901</td>\n",
       "    </tr>\n",
       "    <tr>\n",
       "      <th>player_dmg</th>\n",
       "      <td>-0.267238</td>\n",
       "      <td>0.271316</td>\n",
       "      <td>1.000000</td>\n",
       "      <td>0.111747</td>\n",
       "      <td>0.344284</td>\n",
       "      <td>0.015596</td>\n",
       "      <td>NaN</td>\n",
       "      <td>0.889243</td>\n",
       "    </tr>\n",
       "    <tr>\n",
       "      <th>player_dist_ride</th>\n",
       "      <td>-0.212695</td>\n",
       "      <td>0.123931</td>\n",
       "      <td>0.111747</td>\n",
       "      <td>1.000000</td>\n",
       "      <td>0.443472</td>\n",
       "      <td>0.039033</td>\n",
       "      <td>NaN</td>\n",
       "      <td>0.089205</td>\n",
       "    </tr>\n",
       "    <tr>\n",
       "      <th>player_survive_time</th>\n",
       "      <td>-0.556652</td>\n",
       "      <td>0.749044</td>\n",
       "      <td>0.344284</td>\n",
       "      <td>0.443472</td>\n",
       "      <td>1.000000</td>\n",
       "      <td>0.027072</td>\n",
       "      <td>NaN</td>\n",
       "      <td>0.307293</td>\n",
       "    </tr>\n",
       "    <tr>\n",
       "      <th>game_size</th>\n",
       "      <td>0.006556</td>\n",
       "      <td>0.004079</td>\n",
       "      <td>0.015596</td>\n",
       "      <td>0.039033</td>\n",
       "      <td>0.027072</td>\n",
       "      <td>1.000000</td>\n",
       "      <td>NaN</td>\n",
       "      <td>0.021962</td>\n",
       "    </tr>\n",
       "    <tr>\n",
       "      <th>party_size</th>\n",
       "      <td>NaN</td>\n",
       "      <td>NaN</td>\n",
       "      <td>NaN</td>\n",
       "      <td>NaN</td>\n",
       "      <td>NaN</td>\n",
       "      <td>NaN</td>\n",
       "      <td>NaN</td>\n",
       "      <td>NaN</td>\n",
       "    </tr>\n",
       "    <tr>\n",
       "      <th>player_kills</th>\n",
       "      <td>-0.253025</td>\n",
       "      <td>0.252901</td>\n",
       "      <td>0.889243</td>\n",
       "      <td>0.089205</td>\n",
       "      <td>0.307293</td>\n",
       "      <td>0.021962</td>\n",
       "      <td>NaN</td>\n",
       "      <td>1.000000</td>\n",
       "    </tr>\n",
       "  </tbody>\n",
       "</table>\n",
       "</div>"
      ],
      "text/plain": [
       "                     team_placement  player_dist_walk  player_dmg  \\\n",
       "team_placement             1.000000         -0.400415   -0.267238   \n",
       "player_dist_walk          -0.400415          1.000000    0.271316   \n",
       "player_dmg                -0.267238          0.271316    1.000000   \n",
       "player_dist_ride          -0.212695          0.123931    0.111747   \n",
       "player_survive_time       -0.556652          0.749044    0.344284   \n",
       "game_size                  0.006556          0.004079    0.015596   \n",
       "party_size                      NaN               NaN         NaN   \n",
       "player_kills              -0.253025          0.252901    0.889243   \n",
       "\n",
       "                     player_dist_ride  player_survive_time  game_size  \\\n",
       "team_placement              -0.212695            -0.556652   0.006556   \n",
       "player_dist_walk             0.123931             0.749044   0.004079   \n",
       "player_dmg                   0.111747             0.344284   0.015596   \n",
       "player_dist_ride             1.000000             0.443472   0.039033   \n",
       "player_survive_time          0.443472             1.000000   0.027072   \n",
       "game_size                    0.039033             0.027072   1.000000   \n",
       "party_size                        NaN                  NaN        NaN   \n",
       "player_kills                 0.089205             0.307293   0.021962   \n",
       "\n",
       "                     party_size  player_kills  \n",
       "team_placement              NaN     -0.253025  \n",
       "player_dist_walk            NaN      0.252901  \n",
       "player_dmg                  NaN      0.889243  \n",
       "player_dist_ride            NaN      0.089205  \n",
       "player_survive_time         NaN      0.307293  \n",
       "game_size                   NaN      0.021962  \n",
       "party_size                  NaN           NaN  \n",
       "player_kills                NaN      1.000000  "
      ]
     },
     "execution_count": 29,
     "metadata": {},
     "output_type": "execute_result"
    }
   ],
   "source": [
    "dfsquad.corr()"
   ]
  },
  {
   "cell_type": "markdown",
   "metadata": {},
   "source": [
    "## 3. What are the most appropriate tests to use to analyse these relationships"
   ]
  },
  {
   "cell_type": "markdown",
   "metadata": {},
   "source": [
    "The player kills variable appears to be somewhat normally distrubuted but heavily skewed to the right"
   ]
  },
  {
   "cell_type": "code",
   "execution_count": 30,
   "metadata": {},
   "outputs": [
    {
     "name": "stderr",
     "output_type": "stream",
     "text": [
      "C:\\Users\\Ameen\\Miniconda3\\lib\\site-packages\\scipy\\stats\\stats.py:1713: FutureWarning: Using a non-tuple sequence for multidimensional indexing is deprecated; use `arr[tuple(seq)]` instead of `arr[seq]`. In the future this will be interpreted as an array index, `arr[np.array(seq)]`, which will result either in an error or a different result.\n",
      "  return np.add.reduce(sorted[indexer] * weights, axis=axis) / sumval\n"
     ]
    },
    {
     "data": {
      "image/png": "[encoded data removed]",
      "text/plain": [
       "<Figure size 432x288 with 1 Axes>"
      ]
     },
     "metadata": {
      "needs_background": "light"
     },
     "output_type": "display_data"
    }
   ],
   "source": [
    "plt.xlim(0,7)\n",
    "sns.distplot(dfsolo.player_kills, hist=True)\n",
    "plt.title('Solo')\n",
    "plt.savefig('distplot kills solo.png')"
   ]
  },
  {
   "cell_type": "code",
   "execution_count": 31,
   "metadata": {},
   "outputs": [
    {
     "data": {
      "image/png": "[encoded data removed]",
      "text/plain": [
       "<Figure size 432x288 with 1 Axes>"
      ]
     },
     "metadata": {
      "needs_background": "light"
     },
     "output_type": "display_data"
    }
   ],
   "source": [
    "plt.xlim(0,7)\n",
    "plt.title('Duo')\n",
    "sns.distplot(dfduo.player_kills, hist=True)\n",
    "plt.savefig('distplot kills duo.png')"
   ]
  },
  {
   "cell_type": "code",
   "execution_count": 32,
   "metadata": {},
   "outputs": [
    {
     "data": {
      "image/png": "[encoded data removed]",
      "text/plain": [
       "<Figure size 432x288 with 1 Axes>"
      ]
     },
     "metadata": {
      "needs_background": "light"
     },
     "output_type": "display_data"
    }
   ],
   "source": [
    "plt.xlim(0,7)\n",
    "plt.title('Squad')\n",
    "sns.distplot(dfsquad.player_kills, hist=True)\n",
    "plt.savefig('distplot kills squad.png')"
   ]
  },
  {
   "cell_type": "markdown",
   "metadata": {},
   "source": [
    "Distance Driven appears to be normally distruted"
   ]
  },
  {
   "cell_type": "code",
   "execution_count": 33,
   "metadata": {},
   "outputs": [
    {
     "data": {
      "text/plain": [
       "(0, 0.0005)"
      ]
     },
     "execution_count": 33,
     "metadata": {},
     "output_type": "execute_result"
    },
    {
     "data": {
      "image/png": "[encoded data removed]",
      "text/plain": [
       "<Figure size 432x288 with 1 Axes>"
      ]
     },
     "metadata": {
      "needs_background": "light"
     },
     "output_type": "display_data"
    }
   ],
   "source": [
    "sns.distplot(dfsolo.player_dist_ride)\n",
    "plt.title('Solo Distance Driven')\n",
    "plt.xlim(-1000,19000)\n",
    "plt.ylim(0, .0005)\n"
   ]
  },
  {
   "cell_type": "code",
   "execution_count": 34,
   "metadata": {},
   "outputs": [
    {
     "data": {
      "text/plain": [
       "<matplotlib.axes._subplots.AxesSubplot at 0x2c1a52bf320>"
      ]
     },
     "execution_count": 34,
     "metadata": {},
     "output_type": "execute_result"
    },
    {
     "data": {
      "image/png": "[encoded data removed]",
      "text/plain": [
       "<Figure size 432x288 with 1 Axes>"
      ]
     },
     "metadata": {
      "needs_background": "light"
     },
     "output_type": "display_data"
    }
   ],
   "source": [
    "plt.title('Duo Distance Driven')\n",
    "plt.xlim(-2000,10000)\n",
    "plt.ylim(0, .0008)\n",
    "\n",
    "sns.distplot(dfduo.player_dist_ride)"
   ]
  },
  {
   "cell_type": "code",
   "execution_count": 35,
   "metadata": {},
   "outputs": [
    {
     "data": {
      "text/plain": [
       "<matplotlib.axes._subplots.AxesSubplot at 0x2c1a51a3438>"
      ]
     },
     "execution_count": 35,
     "metadata": {},
     "output_type": "execute_result"
    },
    {
     "data": {
      "image/png": "[encoded data removed]",
      "text/plain": [
       "<Figure size 432x288 with 1 Axes>"
      ]
     },
     "metadata": {
      "needs_background": "light"
     },
     "output_type": "display_data"
    }
   ],
   "source": [
    "plt.title('Squad Distance Driven')\n",
    "plt.xlim(-1000,10000)\n",
    "plt.ylim(0, .0009)\n",
    "\n",
    "sns.distplot(dfsquad.player_dist_ride)"
   ]
  },
  {
   "cell_type": "code",
   "execution_count": 36,
   "metadata": {},
   "outputs": [
    {
     "data": {
      "text/plain": [
       "<matplotlib.axes._subplots.AxesSubplot at 0x2c1a52697f0>"
      ]
     },
     "execution_count": 36,
     "metadata": {},
     "output_type": "execute_result"
    },
    {
     "data": {
      "image/png": "[encoded data removed]",
      "text/plain": [
       "<Figure size 432x288 with 1 Axes>"
      ]
     },
     "metadata": {
      "needs_background": "light"
     },
     "output_type": "display_data"
    }
   ],
   "source": [
    "plt.xlim(0, 7000)\n",
    "plt.title('Squad Distance Walked')\n",
    "sns.distplot(dfsquad.player_dist_walk)"
   ]
  },
  {
   "cell_type": "code",
   "execution_count": 37,
   "metadata": {},
   "outputs": [
    {
     "data": {
      "text/plain": [
       "Ttest_indResult(statistic=-92.48542415414045, pvalue=0.0)"
      ]
     },
     "execution_count": 37,
     "metadata": {},
     "output_type": "execute_result"
    }
   ],
   "source": [
    "stats.ttest_ind(dfsolo.player_kills, dfsolo.team_placement)  #The two variables are indefintely correlated"
   ]
  },
  {
   "cell_type": "code",
   "execution_count": 38,
   "metadata": {},
   "outputs": [
    {
     "data": {
      "text/plain": [
       "Ttest_indResult(statistic=35.623100695467016, pvalue=6.129119164604933e-254)"
      ]
     },
     "execution_count": 38,
     "metadata": {},
     "output_type": "execute_result"
    }
   ],
   "source": [
    "stats.ttest_ind(dfsolo.player_dist_ride, dfsolo.player_survive_time) "
   ]
  },
  {
   "cell_type": "markdown",
   "metadata": {},
   "source": [
    "Using vehicles in late game is typically seen as risk. This is most true when it comes to solo matches because\n",
    "you don't have teamates to shoot in the back and passenger seats while one person is driving.\n",
    "\n",
    "Advantages:\n",
    "-  You can drive where you like to position yourself ideally\n",
    "-  You probably won't get blue zoned\n",
    "-  Remain mobile in case of changing circumstances\n",
    "-  Can hunt down loot boxes that fall from the sky\n",
    "\n",
    "Disadvantages: \n",
    "-  Makes a lot of sound, so enemies can detect you easily, particularly when the zone is smaller\n",
    "-  You're a big target that many people will shoot at\n",
    "\n",
    "**The p value of 6% for solo distance driven and survival time leaves the hypothesis of driving vehicles leading to higher survival time open to interpretation.**"
   ]
  },
  {
   "cell_type": "code",
   "execution_count": 39,
   "metadata": {},
   "outputs": [
    {
     "data": {
      "text/plain": [
       "Ttest_indResult(statistic=54.61829534513544, pvalue=0.0)"
      ]
     },
     "execution_count": 39,
     "metadata": {},
     "output_type": "execute_result"
    }
   ],
   "source": [
    "stats.ttest_ind(dfduo.player_dist_ride, dfsolo.player_survive_time) "
   ]
  },
  {
   "cell_type": "code",
   "execution_count": 40,
   "metadata": {},
   "outputs": [
    {
     "data": {
      "text/plain": [
       "Ttest_indResult(statistic=57.59963564372029, pvalue=0.0)"
      ]
     },
     "execution_count": 40,
     "metadata": {},
     "output_type": "execute_result"
    }
   ],
   "source": [
    "stats.ttest_ind(dfsquad.player_dist_ride, dfsolo.player_survive_time) "
   ]
  },
  {
   "cell_type": "markdown",
   "metadata": {},
   "source": [
    "**As expected, for duo and squad matches it is evident by the p value that it is highly probable that the more distance driven in a match, the greater your survival time will be**"
   ]
  },
  {
   "cell_type": "markdown",
   "metadata": {},
   "source": [
    "I'd like to examine the range of stats for all of the first place players in solo matches."
   ]
  },
  {
   "cell_type": "code",
   "execution_count": 41,
   "metadata": {},
   "outputs": [],
   "source": [
    "firstplace = dfsolo[dfsolo.team_placement == 1]\n",
    "\n",
    "def bootstrap_replicate_1d(data, func):\n",
    "    return func(np.random.choice(data, size=len(data)))\n",
    "\n",
    "def draw_bs_reps(data, func, size=1):\n",
    "    \"\"\"Draw bootstrap replicates.\"\"\"\n",
    "\n",
    "    # Initialize array of replicates: bs_replicates\n",
    "    bs_replicates = np.empty(size)\n",
    "\n",
    "    # Generate replicates\n",
    "    for i in range(size):\n",
    "        bs_replicates[i] = bootstrap_replicate_1d(data, func)\n",
    "\n",
    "    return bs_replicates"
   ]
  },
  {
   "cell_type": "code",
   "execution_count": 42,
   "metadata": {},
   "outputs": [
    {
     "name": "stdout",
     "output_type": "stream",
     "text": [
      "Confidence Interval: [6.34291045 8.92537313]\n",
      "Mean 7.507462686567164\n"
     ]
    }
   ],
   "source": [
    "bs_temp = draw_bs_reps(firstplace.player_kills, np.mean, size=1000)\n",
    "bs_temp_percentile = np.percentile(bs_temp, (2.5, 97.5))\n",
    "print('Confidence Interval:', bs_temp_percentile)\n",
    "print('Mean', np.mean(firstplace.player_kills))"
   ]
  },
  {
   "cell_type": "code",
   "execution_count": 43,
   "metadata": {},
   "outputs": [
    {
     "name": "stdout",
     "output_type": "stream",
     "text": [
      "Confidence Interval: [2.56022727 3.8030303 ]\n",
      "Mean: 3.1666666666666665\n"
     ]
    }
   ],
   "source": [
    "secondplace = dfsolo[dfsolo.team_placement == 2]\n",
    "\n",
    "bs_temp2 = draw_bs_reps(secondplace.player_kills, np.mean, size=1000)\n",
    "bs_temp_percentile2 = np.percentile(bs_temp2, (2.5, 97.5))\n",
    "print('Confidence Interval:', bs_temp_percentile2)\n",
    "print('Mean:', np.mean(secondplace.player_kills))"
   ]
  },
  {
   "cell_type": "markdown",
   "metadata": {},
   "source": [
    "**When conducting a bootstrap sampling test 1000 times, we cans see that the mean difference in first and second place is consistently 4 kills.**"
   ]
  }
 ],
 "metadata": {
  "kernelspec": {
   "display_name": "Python 3",
   "language": "python",
   "name": "python3"
  },
  "language_info": {
   "codemirror_mode": {
    "name": "ipython",
    "version": 3
   },
   "file_extension": ".py",
   "mimetype": "text/x-python",
   "name": "python",
   "nbconvert_exporter": "python",
   "pygments_lexer": "ipython3",
   "version": "3.6.6"
  }
 },
 "nbformat": 4,
 "nbformat_minor": 2
}
